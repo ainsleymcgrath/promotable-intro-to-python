{
 "cells": [
  {
   "cell_type": "markdown",
   "metadata": {},
   "source": [
    "# Exploring Rolling Stone Top 500 Albums 2012\n",
    "\n",
    "The dataset used here came from [Kaggle](https://www.kaggle.com/datasets) via [data.world](https://data.world/notgibs/rolling-stones-top-500-albums). The analysis performed in this notebook heavily focuses on the Pandas functionality found in [The Pandas Cheatsheet](https://github.com/pandas-dev/pandas/blob/master/doc/cheatsheet/Pandas_Cheat_Sheet.pdf). \n",
    "\n",
    "If something is used that isn't in the cheatsheet, follow links! They lead to official docs. They're included in lieu of explicit explanation of what different cells are doing, because that's what docs are for! Get the most out of this by digging in, messing around, and breaking stuff."
   ]
  },
  {
   "cell_type": "code",
   "execution_count": 130,
   "metadata": {},
   "outputs": [],
   "source": [
    "import pandas as pd\n",
    "\n",
    "df = pd.read_csv('albumlist.csv')"
   ]
  },
  {
   "cell_type": "markdown",
   "metadata": {},
   "source": [
    "With our data imported, let's take a cursory [look](https://pandas.pydata.org/pandas-docs/stable/generated/pandas.DataFrame.dtypes.html) at what we're dealing with."
   ]
  },
  {
   "cell_type": "markdown",
   "metadata": {},
   "source": [
    "## High Level Analysis"
   ]
  },
  {
   "cell_type": "code",
   "execution_count": 131,
   "metadata": {
    "scrolled": true
   },
   "outputs": [
    {
     "data": {
      "text/plain": [
       "Number       int64\n",
       "Year         int64\n",
       "Album       object\n",
       "Artist      object\n",
       "Genre       object\n",
       "Subgenre    object\n",
       "dtype: object"
      ]
     },
     "execution_count": 131,
     "metadata": {},
     "output_type": "execute_result"
    }
   ],
   "source": [
    "df.dtypes"
   ]
  },
  {
   "cell_type": "code",
   "execution_count": 132,
   "metadata": {},
   "outputs": [
    {
     "data": {
      "text/html": [
       "<div>\n",
       "<style scoped>\n",
       "    .dataframe tbody tr th:only-of-type {\n",
       "        vertical-align: middle;\n",
       "    }\n",
       "\n",
       "    .dataframe tbody tr th {\n",
       "        vertical-align: top;\n",
       "    }\n",
       "\n",
       "    .dataframe thead th {\n",
       "        text-align: right;\n",
       "    }\n",
       "</style>\n",
       "<table border=\"1\" class=\"dataframe\">\n",
       "  <thead>\n",
       "    <tr style=\"text-align: right;\">\n",
       "      <th></th>\n",
       "      <th>Number</th>\n",
       "      <th>Year</th>\n",
       "      <th>Album</th>\n",
       "      <th>Artist</th>\n",
       "      <th>Genre</th>\n",
       "      <th>Subgenre</th>\n",
       "    </tr>\n",
       "  </thead>\n",
       "  <tbody>\n",
       "    <tr>\n",
       "      <th>0</th>\n",
       "      <td>1</td>\n",
       "      <td>1967</td>\n",
       "      <td>Sgt. Pepper's Lonely Hearts Club Band</td>\n",
       "      <td>The Beatles</td>\n",
       "      <td>Rock</td>\n",
       "      <td>Rock &amp; Roll, Psychedelic Rock</td>\n",
       "    </tr>\n",
       "    <tr>\n",
       "      <th>1</th>\n",
       "      <td>2</td>\n",
       "      <td>1966</td>\n",
       "      <td>Pet Sounds</td>\n",
       "      <td>The Beach Boys</td>\n",
       "      <td>Rock</td>\n",
       "      <td>Pop Rock, Psychedelic Rock</td>\n",
       "    </tr>\n",
       "    <tr>\n",
       "      <th>2</th>\n",
       "      <td>3</td>\n",
       "      <td>1966</td>\n",
       "      <td>Revolver</td>\n",
       "      <td>The Beatles</td>\n",
       "      <td>Rock</td>\n",
       "      <td>Psychedelic Rock, Pop Rock</td>\n",
       "    </tr>\n",
       "    <tr>\n",
       "      <th>3</th>\n",
       "      <td>4</td>\n",
       "      <td>1965</td>\n",
       "      <td>Highway 61 Revisited</td>\n",
       "      <td>Bob Dylan</td>\n",
       "      <td>Rock</td>\n",
       "      <td>Folk Rock, Blues Rock</td>\n",
       "    </tr>\n",
       "    <tr>\n",
       "      <th>4</th>\n",
       "      <td>5</td>\n",
       "      <td>1965</td>\n",
       "      <td>Rubber Soul</td>\n",
       "      <td>The Beatles</td>\n",
       "      <td>Rock, Pop</td>\n",
       "      <td>Pop Rock</td>\n",
       "    </tr>\n",
       "  </tbody>\n",
       "</table>\n",
       "</div>"
      ],
      "text/plain": [
       "   Number  Year                                  Album          Artist  \\\n",
       "0       1  1967  Sgt. Pepper's Lonely Hearts Club Band     The Beatles   \n",
       "1       2  1966                             Pet Sounds  The Beach Boys   \n",
       "2       3  1966                               Revolver     The Beatles   \n",
       "3       4  1965                   Highway 61 Revisited       Bob Dylan   \n",
       "4       5  1965                            Rubber Soul     The Beatles   \n",
       "\n",
       "       Genre                       Subgenre  \n",
       "0       Rock  Rock & Roll, Psychedelic Rock  \n",
       "1       Rock     Pop Rock, Psychedelic Rock  \n",
       "2       Rock     Psychedelic Rock, Pop Rock  \n",
       "3       Rock          Folk Rock, Blues Rock  \n",
       "4  Rock, Pop                       Pop Rock  "
      ]
     },
     "execution_count": 132,
     "metadata": {},
     "output_type": "execute_result"
    }
   ],
   "source": [
    "df.head()"
   ]
  },
  {
   "cell_type": "markdown",
   "metadata": {},
   "source": [
    "Six columns. We've got:\n",
    "- *Number*, thenranking of the album\n",
    "- *Year*, the year the album was released.\n",
    "- *Album*, the title. (An object, which is Pandas for String)\n",
    "- *Genre* \n",
    "- *Subgenre*\n",
    "\n",
    "With a quick [summary](https://pandas.pydata.org/pandas-docs/stable/generated/pandas.DataFrame.describe.html#pandas.DataFrame.describe) of the dataset, we can get a feel for what might be some interesting questions to ask about our data and scheme out our analysis for the rest of the notebook."
   ]
  },
  {
   "cell_type": "code",
   "execution_count": 133,
   "metadata": {},
   "outputs": [
    {
     "data": {
      "text/html": [
       "<div>\n",
       "<style scoped>\n",
       "    .dataframe tbody tr th:only-of-type {\n",
       "        vertical-align: middle;\n",
       "    }\n",
       "\n",
       "    .dataframe tbody tr th {\n",
       "        vertical-align: top;\n",
       "    }\n",
       "\n",
       "    .dataframe thead th {\n",
       "        text-align: right;\n",
       "    }\n",
       "</style>\n",
       "<table border=\"1\" class=\"dataframe\">\n",
       "  <thead>\n",
       "    <tr style=\"text-align: right;\">\n",
       "      <th></th>\n",
       "      <th>Number</th>\n",
       "      <th>Year</th>\n",
       "      <th>Album</th>\n",
       "      <th>Artist</th>\n",
       "      <th>Genre</th>\n",
       "      <th>Subgenre</th>\n",
       "    </tr>\n",
       "  </thead>\n",
       "  <tbody>\n",
       "    <tr>\n",
       "      <th>count</th>\n",
       "      <td>500.000000</td>\n",
       "      <td>500.000000</td>\n",
       "      <td>500</td>\n",
       "      <td>500</td>\n",
       "      <td>500</td>\n",
       "      <td>500</td>\n",
       "    </tr>\n",
       "    <tr>\n",
       "      <th>unique</th>\n",
       "      <td>NaN</td>\n",
       "      <td>NaN</td>\n",
       "      <td>497</td>\n",
       "      <td>289</td>\n",
       "      <td>63</td>\n",
       "      <td>290</td>\n",
       "    </tr>\n",
       "    <tr>\n",
       "      <th>top</th>\n",
       "      <td>NaN</td>\n",
       "      <td>NaN</td>\n",
       "      <td>Greatest Hits</td>\n",
       "      <td>The Rolling Stones</td>\n",
       "      <td>Rock</td>\n",
       "      <td>None</td>\n",
       "    </tr>\n",
       "    <tr>\n",
       "      <th>freq</th>\n",
       "      <td>NaN</td>\n",
       "      <td>NaN</td>\n",
       "      <td>3</td>\n",
       "      <td>10</td>\n",
       "      <td>249</td>\n",
       "      <td>29</td>\n",
       "    </tr>\n",
       "    <tr>\n",
       "      <th>mean</th>\n",
       "      <td>250.500000</td>\n",
       "      <td>1979.270000</td>\n",
       "      <td>NaN</td>\n",
       "      <td>NaN</td>\n",
       "      <td>NaN</td>\n",
       "      <td>NaN</td>\n",
       "    </tr>\n",
       "    <tr>\n",
       "      <th>std</th>\n",
       "      <td>144.481833</td>\n",
       "      <td>12.093701</td>\n",
       "      <td>NaN</td>\n",
       "      <td>NaN</td>\n",
       "      <td>NaN</td>\n",
       "      <td>NaN</td>\n",
       "    </tr>\n",
       "    <tr>\n",
       "      <th>min</th>\n",
       "      <td>1.000000</td>\n",
       "      <td>1955.000000</td>\n",
       "      <td>NaN</td>\n",
       "      <td>NaN</td>\n",
       "      <td>NaN</td>\n",
       "      <td>NaN</td>\n",
       "    </tr>\n",
       "    <tr>\n",
       "      <th>25%</th>\n",
       "      <td>125.750000</td>\n",
       "      <td>1970.000000</td>\n",
       "      <td>NaN</td>\n",
       "      <td>NaN</td>\n",
       "      <td>NaN</td>\n",
       "      <td>NaN</td>\n",
       "    </tr>\n",
       "    <tr>\n",
       "      <th>50%</th>\n",
       "      <td>250.500000</td>\n",
       "      <td>1976.000000</td>\n",
       "      <td>NaN</td>\n",
       "      <td>NaN</td>\n",
       "      <td>NaN</td>\n",
       "      <td>NaN</td>\n",
       "    </tr>\n",
       "    <tr>\n",
       "      <th>75%</th>\n",
       "      <td>375.250000</td>\n",
       "      <td>1988.000000</td>\n",
       "      <td>NaN</td>\n",
       "      <td>NaN</td>\n",
       "      <td>NaN</td>\n",
       "      <td>NaN</td>\n",
       "    </tr>\n",
       "    <tr>\n",
       "      <th>max</th>\n",
       "      <td>500.000000</td>\n",
       "      <td>2011.000000</td>\n",
       "      <td>NaN</td>\n",
       "      <td>NaN</td>\n",
       "      <td>NaN</td>\n",
       "      <td>NaN</td>\n",
       "    </tr>\n",
       "  </tbody>\n",
       "</table>\n",
       "</div>"
      ],
      "text/plain": [
       "            Number         Year          Album              Artist Genre  \\\n",
       "count   500.000000   500.000000            500                 500   500   \n",
       "unique         NaN          NaN            497                 289    63   \n",
       "top            NaN          NaN  Greatest Hits  The Rolling Stones  Rock   \n",
       "freq           NaN          NaN              3                  10   249   \n",
       "mean    250.500000  1979.270000            NaN                 NaN   NaN   \n",
       "std     144.481833    12.093701            NaN                 NaN   NaN   \n",
       "min       1.000000  1955.000000            NaN                 NaN   NaN   \n",
       "25%     125.750000  1970.000000            NaN                 NaN   NaN   \n",
       "50%     250.500000  1976.000000            NaN                 NaN   NaN   \n",
       "75%     375.250000  1988.000000            NaN                 NaN   NaN   \n",
       "max     500.000000  2011.000000            NaN                 NaN   NaN   \n",
       "\n",
       "       Subgenre  \n",
       "count       500  \n",
       "unique      290  \n",
       "top        None  \n",
       "freq         29  \n",
       "mean        NaN  \n",
       "std         NaN  \n",
       "min         NaN  \n",
       "25%         NaN  \n",
       "50%         NaN  \n",
       "75%         NaN  \n",
       "max         NaN  "
      ]
     },
     "execution_count": 133,
     "metadata": {},
     "output_type": "execute_result"
    }
   ],
   "source": [
    "df.describe(include='all')"
   ]
  },
  {
   "cell_type": "markdown",
   "metadata": {},
   "source": [
    "This small summary says a lot!\n",
    "\n",
    "*Number* is hard to summarize since it's the ranking of the album, but it will be interesting later!\n",
    "\n",
    "The min *Year* of this dataset is 1955 and the max is 2011, so we know that this info covers 56 years of albums. The [interquartile range](https://en.wikipedia.org/wiki/Interquartile_range) (the 3 rows below *min*) tell us even more. The first (Q1) is 1970, so 1/4 of all these albums came out before then, or within the first 15 years of this time period. The next 25% (Q2) of the data was all from the following 6 years! That tells us that a ton of these top 500 albums came from the 70s, so maybe that'd be a good subset of the data to analyze later. Q3 covers 8 years of data, and then Q4 is the last 23. This shows us another trend: There was a huge dropoff for Rolling Stone adding new albums to their best-of-all-time after 1988. Something else to consider later.\n",
    "\n",
    "Next, we look *Album* and notice that there are only 497 unique albums in this list of 500 albums. That doesn't seem right... Apparently, the album title that's getting repeated is *Greatest Hits* (*freq* tells us that it was repeated 3 times). We'll come back to that later as well.\n",
    "\n",
    "*Artist*: We see the Beatles made it on 10 times. Quite a few artists made it on more than once as well, it appears since there are only 289 unique artists out of 500 rows of data.\n",
    "\n",
    "Finally, *Genre* and *Subgenre*. Rock dominates the genres in the list with more than half the \"best\" albums being in that category. *Subgenre* will be interesting to look at, since even though the #1 subgenre is `None`, that only happens 29 times, so 461 of these have subgenres listed.\n",
    "\n",
    "Armed with some paths to head down, let's explore."
   ]
  },
  {
   "cell_type": "markdown",
   "metadata": {},
   "source": [
    "## Diving In "
   ]
  },
  {
   "cell_type": "markdown",
   "metadata": {},
   "source": [
    "#### Top Albums Over The Years\n",
    "We noted earlier that the distribution of top albums over the years is pretty interesting. Let's visualize that. To do that, we need `matpolotlib`."
   ]
  },
  {
   "cell_type": "code",
   "execution_count": 303,
   "metadata": {},
   "outputs": [
    {
     "data": {
      "text/plain": [
       "<matplotlib.axes._subplots.AxesSubplot at 0x11928aa90>"
      ]
     },
     "execution_count": 303,
     "metadata": {},
     "output_type": "execute_result"
    },
    {
     "data": {
      "image/png": "[encoded data removed]",
      "text/plain": [
       "<Figure size 432x288 with 1 Axes>"
      ]
     },
     "metadata": {
      "needs_background": "light"
     },
     "output_type": "display_data"
    }
   ],
   "source": [
    "import matplotlib # gets used under the hood\n",
    "df['Year'].plot.hist()"
   ]
  },
  {
   "cell_type": "markdown",
   "metadata": {},
   "source": [
    "The histogram above verifies the suspicion that there were lots of top 500 albums in the late 60s and early 70s. Let's peek into a subset of those years."
   ]
  },
  {
   "cell_type": "code",
   "execution_count": 135,
   "metadata": {},
   "outputs": [
    {
     "data": {
      "text/plain": [
       "276"
      ]
     },
     "execution_count": 135,
     "metadata": {},
     "output_type": "execute_result"
    }
   ],
   "source": [
    "seventies = df.query('Year > 1964 and Year < 1980') # a little 60s too\n",
    "len(seventies)"
   ]
  },
  {
   "cell_type": "markdown",
   "metadata": {},
   "source": [
    "This period accounts for 276 out the 500 albums. Let's inspect how many of the top 10 for different time periods occur. We'll use a function since we'll do this a lot."
   ]
  },
  {
   "cell_type": "code",
   "execution_count": 155,
   "metadata": {},
   "outputs": [
    {
     "data": {
      "text/html": [
       "<div>\n",
       "<style scoped>\n",
       "    .dataframe tbody tr th:only-of-type {\n",
       "        vertical-align: middle;\n",
       "    }\n",
       "\n",
       "    .dataframe tbody tr th {\n",
       "        vertical-align: top;\n",
       "    }\n",
       "\n",
       "    .dataframe thead th {\n",
       "        text-align: right;\n",
       "    }\n",
       "</style>\n",
       "<table border=\"1\" class=\"dataframe\">\n",
       "  <thead>\n",
       "    <tr style=\"text-align: right;\">\n",
       "      <th></th>\n",
       "      <th>Number</th>\n",
       "      <th>Year</th>\n",
       "      <th>Album</th>\n",
       "      <th>Artist</th>\n",
       "      <th>Genre</th>\n",
       "      <th>Subgenre</th>\n",
       "    </tr>\n",
       "  </thead>\n",
       "  <tbody>\n",
       "    <tr>\n",
       "      <th>0</th>\n",
       "      <td>1</td>\n",
       "      <td>1967</td>\n",
       "      <td>Sgt. Pepper's Lonely Hearts Club Band</td>\n",
       "      <td>The Beatles</td>\n",
       "      <td>Rock</td>\n",
       "      <td>Rock &amp; Roll, Psychedelic Rock</td>\n",
       "    </tr>\n",
       "    <tr>\n",
       "      <th>1</th>\n",
       "      <td>2</td>\n",
       "      <td>1966</td>\n",
       "      <td>Pet Sounds</td>\n",
       "      <td>The Beach Boys</td>\n",
       "      <td>Rock</td>\n",
       "      <td>Pop Rock, Psychedelic Rock</td>\n",
       "    </tr>\n",
       "    <tr>\n",
       "      <th>2</th>\n",
       "      <td>3</td>\n",
       "      <td>1966</td>\n",
       "      <td>Revolver</td>\n",
       "      <td>The Beatles</td>\n",
       "      <td>Rock</td>\n",
       "      <td>Psychedelic Rock, Pop Rock</td>\n",
       "    </tr>\n",
       "    <tr>\n",
       "      <th>3</th>\n",
       "      <td>4</td>\n",
       "      <td>1965</td>\n",
       "      <td>Highway 61 Revisited</td>\n",
       "      <td>Bob Dylan</td>\n",
       "      <td>Rock</td>\n",
       "      <td>Folk Rock, Blues Rock</td>\n",
       "    </tr>\n",
       "    <tr>\n",
       "      <th>4</th>\n",
       "      <td>5</td>\n",
       "      <td>1965</td>\n",
       "      <td>Rubber Soul</td>\n",
       "      <td>The Beatles</td>\n",
       "      <td>Rock, Pop</td>\n",
       "      <td>Pop Rock</td>\n",
       "    </tr>\n",
       "    <tr>\n",
       "      <th>5</th>\n",
       "      <td>6</td>\n",
       "      <td>1971</td>\n",
       "      <td>What's Going On</td>\n",
       "      <td>Marvin Gaye</td>\n",
       "      <td>Funk / Soul</td>\n",
       "      <td>Soul</td>\n",
       "    </tr>\n",
       "    <tr>\n",
       "      <th>6</th>\n",
       "      <td>7</td>\n",
       "      <td>1972</td>\n",
       "      <td>Exile on Main St.</td>\n",
       "      <td>The Rolling Stones</td>\n",
       "      <td>Rock</td>\n",
       "      <td>Blues Rock, Rock &amp; Roll, Classic Rock</td>\n",
       "    </tr>\n",
       "    <tr>\n",
       "      <th>7</th>\n",
       "      <td>8</td>\n",
       "      <td>1979</td>\n",
       "      <td>London Calling</td>\n",
       "      <td>The Clash</td>\n",
       "      <td>Rock</td>\n",
       "      <td>Punk, New Wave</td>\n",
       "    </tr>\n",
       "    <tr>\n",
       "      <th>8</th>\n",
       "      <td>9</td>\n",
       "      <td>1966</td>\n",
       "      <td>Blonde on Blonde</td>\n",
       "      <td>Bob Dylan</td>\n",
       "      <td>Rock, Blues</td>\n",
       "      <td>Folk Rock, Rhythm &amp; Blues</td>\n",
       "    </tr>\n",
       "    <tr>\n",
       "      <th>9</th>\n",
       "      <td>10</td>\n",
       "      <td>1968</td>\n",
       "      <td>The Beatles (\"The White Album\")</td>\n",
       "      <td>The Beatles</td>\n",
       "      <td>Rock</td>\n",
       "      <td>Rock &amp; Roll, Pop Rock, Psychedelic Rock, Exper...</td>\n",
       "    </tr>\n",
       "  </tbody>\n",
       "</table>\n",
       "</div>"
      ],
      "text/plain": [
       "   Number  Year                                  Album              Artist  \\\n",
       "0       1  1967  Sgt. Pepper's Lonely Hearts Club Band         The Beatles   \n",
       "1       2  1966                             Pet Sounds      The Beach Boys   \n",
       "2       3  1966                               Revolver         The Beatles   \n",
       "3       4  1965                   Highway 61 Revisited           Bob Dylan   \n",
       "4       5  1965                            Rubber Soul         The Beatles   \n",
       "5       6  1971                        What's Going On         Marvin Gaye   \n",
       "6       7  1972                      Exile on Main St.  The Rolling Stones   \n",
       "7       8  1979                         London Calling           The Clash   \n",
       "8       9  1966                       Blonde on Blonde           Bob Dylan   \n",
       "9      10  1968        The Beatles (\"The White Album\")         The Beatles   \n",
       "\n",
       "         Genre                                           Subgenre  \n",
       "0         Rock                      Rock & Roll, Psychedelic Rock  \n",
       "1         Rock                         Pop Rock, Psychedelic Rock  \n",
       "2         Rock                         Psychedelic Rock, Pop Rock  \n",
       "3         Rock                              Folk Rock, Blues Rock  \n",
       "4    Rock, Pop                                           Pop Rock  \n",
       "5  Funk / Soul                                               Soul  \n",
       "6         Rock              Blues Rock, Rock & Roll, Classic Rock  \n",
       "7         Rock                                     Punk, New Wave  \n",
       "8  Rock, Blues                          Folk Rock, Rhythm & Blues  \n",
       "9         Rock  Rock & Roll, Pop Rock, Psychedelic Rock, Exper...  "
      ]
     },
     "execution_count": 155,
     "metadata": {},
     "output_type": "execute_result"
    }
   ],
   "source": [
    "def top_albums(frame, sort_col='Number'):\n",
    "    return frame.sort_values(by=sort_col).head(10)\n",
    "\n",
    "top_albums(df)"
   ]
  },
  {
   "cell_type": "code",
   "execution_count": 156,
   "metadata": {},
   "outputs": [
    {
     "data": {
      "text/html": [
       "<div>\n",
       "<style scoped>\n",
       "    .dataframe tbody tr th:only-of-type {\n",
       "        vertical-align: middle;\n",
       "    }\n",
       "\n",
       "    .dataframe tbody tr th {\n",
       "        vertical-align: top;\n",
       "    }\n",
       "\n",
       "    .dataframe thead th {\n",
       "        text-align: right;\n",
       "    }\n",
       "</style>\n",
       "<table border=\"1\" class=\"dataframe\">\n",
       "  <thead>\n",
       "    <tr style=\"text-align: right;\">\n",
       "      <th></th>\n",
       "      <th>Number</th>\n",
       "      <th>Year</th>\n",
       "      <th>Album</th>\n",
       "      <th>Artist</th>\n",
       "      <th>Genre</th>\n",
       "      <th>Subgenre</th>\n",
       "    </tr>\n",
       "  </thead>\n",
       "  <tbody>\n",
       "    <tr>\n",
       "      <th>0</th>\n",
       "      <td>1</td>\n",
       "      <td>1967</td>\n",
       "      <td>Sgt. Pepper's Lonely Hearts Club Band</td>\n",
       "      <td>The Beatles</td>\n",
       "      <td>Rock</td>\n",
       "      <td>Rock &amp; Roll, Psychedelic Rock</td>\n",
       "    </tr>\n",
       "    <tr>\n",
       "      <th>1</th>\n",
       "      <td>2</td>\n",
       "      <td>1966</td>\n",
       "      <td>Pet Sounds</td>\n",
       "      <td>The Beach Boys</td>\n",
       "      <td>Rock</td>\n",
       "      <td>Pop Rock, Psychedelic Rock</td>\n",
       "    </tr>\n",
       "    <tr>\n",
       "      <th>2</th>\n",
       "      <td>3</td>\n",
       "      <td>1966</td>\n",
       "      <td>Revolver</td>\n",
       "      <td>The Beatles</td>\n",
       "      <td>Rock</td>\n",
       "      <td>Psychedelic Rock, Pop Rock</td>\n",
       "    </tr>\n",
       "    <tr>\n",
       "      <th>3</th>\n",
       "      <td>4</td>\n",
       "      <td>1965</td>\n",
       "      <td>Highway 61 Revisited</td>\n",
       "      <td>Bob Dylan</td>\n",
       "      <td>Rock</td>\n",
       "      <td>Folk Rock, Blues Rock</td>\n",
       "    </tr>\n",
       "    <tr>\n",
       "      <th>4</th>\n",
       "      <td>5</td>\n",
       "      <td>1965</td>\n",
       "      <td>Rubber Soul</td>\n",
       "      <td>The Beatles</td>\n",
       "      <td>Rock, Pop</td>\n",
       "      <td>Pop Rock</td>\n",
       "    </tr>\n",
       "    <tr>\n",
       "      <th>5</th>\n",
       "      <td>6</td>\n",
       "      <td>1971</td>\n",
       "      <td>What's Going On</td>\n",
       "      <td>Marvin Gaye</td>\n",
       "      <td>Funk / Soul</td>\n",
       "      <td>Soul</td>\n",
       "    </tr>\n",
       "    <tr>\n",
       "      <th>6</th>\n",
       "      <td>7</td>\n",
       "      <td>1972</td>\n",
       "      <td>Exile on Main St.</td>\n",
       "      <td>The Rolling Stones</td>\n",
       "      <td>Rock</td>\n",
       "      <td>Blues Rock, Rock &amp; Roll, Classic Rock</td>\n",
       "    </tr>\n",
       "    <tr>\n",
       "      <th>7</th>\n",
       "      <td>8</td>\n",
       "      <td>1979</td>\n",
       "      <td>London Calling</td>\n",
       "      <td>The Clash</td>\n",
       "      <td>Rock</td>\n",
       "      <td>Punk, New Wave</td>\n",
       "    </tr>\n",
       "    <tr>\n",
       "      <th>8</th>\n",
       "      <td>9</td>\n",
       "      <td>1966</td>\n",
       "      <td>Blonde on Blonde</td>\n",
       "      <td>Bob Dylan</td>\n",
       "      <td>Rock, Blues</td>\n",
       "      <td>Folk Rock, Rhythm &amp; Blues</td>\n",
       "    </tr>\n",
       "    <tr>\n",
       "      <th>9</th>\n",
       "      <td>10</td>\n",
       "      <td>1968</td>\n",
       "      <td>The Beatles (\"The White Album\")</td>\n",
       "      <td>The Beatles</td>\n",
       "      <td>Rock</td>\n",
       "      <td>Rock &amp; Roll, Pop Rock, Psychedelic Rock, Exper...</td>\n",
       "    </tr>\n",
       "  </tbody>\n",
       "</table>\n",
       "</div>"
      ],
      "text/plain": [
       "   Number  Year                                  Album              Artist  \\\n",
       "0       1  1967  Sgt. Pepper's Lonely Hearts Club Band         The Beatles   \n",
       "1       2  1966                             Pet Sounds      The Beach Boys   \n",
       "2       3  1966                               Revolver         The Beatles   \n",
       "3       4  1965                   Highway 61 Revisited           Bob Dylan   \n",
       "4       5  1965                            Rubber Soul         The Beatles   \n",
       "5       6  1971                        What's Going On         Marvin Gaye   \n",
       "6       7  1972                      Exile on Main St.  The Rolling Stones   \n",
       "7       8  1979                         London Calling           The Clash   \n",
       "8       9  1966                       Blonde on Blonde           Bob Dylan   \n",
       "9      10  1968        The Beatles (\"The White Album\")         The Beatles   \n",
       "\n",
       "         Genre                                           Subgenre  \n",
       "0         Rock                      Rock & Roll, Psychedelic Rock  \n",
       "1         Rock                         Pop Rock, Psychedelic Rock  \n",
       "2         Rock                         Psychedelic Rock, Pop Rock  \n",
       "3         Rock                              Folk Rock, Blues Rock  \n",
       "4    Rock, Pop                                           Pop Rock  \n",
       "5  Funk / Soul                                               Soul  \n",
       "6         Rock              Blues Rock, Rock & Roll, Classic Rock  \n",
       "7         Rock                                     Punk, New Wave  \n",
       "8  Rock, Blues                          Folk Rock, Rhythm & Blues  \n",
       "9         Rock  Rock & Roll, Pop Rock, Psychedelic Rock, Exper...  "
      ]
     },
     "execution_count": 156,
     "metadata": {},
     "output_type": "execute_result"
    }
   ],
   "source": [
    "top_albums(seventies)"
   ]
  },
  {
   "cell_type": "markdown",
   "metadata": {},
   "source": [
    "Wow. The Top 10 of all time and the top 10 of the seventies are *exactly* the same! I wonder how albums from this century stack up."
   ]
  },
  {
   "cell_type": "code",
   "execution_count": 157,
   "metadata": {},
   "outputs": [
    {
     "data": {
      "text/html": [
       "<div>\n",
       "<style scoped>\n",
       "    .dataframe tbody tr th:only-of-type {\n",
       "        vertical-align: middle;\n",
       "    }\n",
       "\n",
       "    .dataframe tbody tr th {\n",
       "        vertical-align: top;\n",
       "    }\n",
       "\n",
       "    .dataframe thead th {\n",
       "        text-align: right;\n",
       "    }\n",
       "</style>\n",
       "<table border=\"1\" class=\"dataframe\">\n",
       "  <thead>\n",
       "    <tr style=\"text-align: right;\">\n",
       "      <th></th>\n",
       "      <th>Number</th>\n",
       "      <th>Year</th>\n",
       "      <th>Album</th>\n",
       "      <th>Artist</th>\n",
       "      <th>Genre</th>\n",
       "      <th>Subgenre</th>\n",
       "    </tr>\n",
       "  </thead>\n",
       "  <tbody>\n",
       "    <tr>\n",
       "      <th>37</th>\n",
       "      <td>38</td>\n",
       "      <td>2001</td>\n",
       "      <td>The Anthology</td>\n",
       "      <td>Muddy Waters</td>\n",
       "      <td>Folk, World, &amp; Country</td>\n",
       "      <td>Folk</td>\n",
       "    </tr>\n",
       "    <tr>\n",
       "      <th>66</th>\n",
       "      <td>67</td>\n",
       "      <td>2000</td>\n",
       "      <td>Kid A</td>\n",
       "      <td>Radiohead</td>\n",
       "      <td>Electronic, Rock</td>\n",
       "      <td>Alternative Rock, IDM, Experimental</td>\n",
       "    </tr>\n",
       "    <tr>\n",
       "      <th>106</th>\n",
       "      <td>107</td>\n",
       "      <td>2003</td>\n",
       "      <td>Portrait of a Legend 1951-1964</td>\n",
       "      <td>Sam Cooke</td>\n",
       "      <td>Latin, Funk / Soul</td>\n",
       "      <td>Soul, Rhythm &amp; Blues, Gospel, Cha-Cha</td>\n",
       "    </tr>\n",
       "    <tr>\n",
       "      <th>117</th>\n",
       "      <td>118</td>\n",
       "      <td>2005</td>\n",
       "      <td>Late Registration</td>\n",
       "      <td>Kanye West</td>\n",
       "      <td>Hip Hop</td>\n",
       "      <td>None</td>\n",
       "    </tr>\n",
       "    <tr>\n",
       "      <th>150</th>\n",
       "      <td>151</td>\n",
       "      <td>2004</td>\n",
       "      <td>Funeral</td>\n",
       "      <td>Arcade Fire</td>\n",
       "      <td>Rock</td>\n",
       "      <td>Indie Rock</td>\n",
       "    </tr>\n",
       "    <tr>\n",
       "      <th>163</th>\n",
       "      <td>164</td>\n",
       "      <td>2002</td>\n",
       "      <td>The Very Best of Linda Ronstadt</td>\n",
       "      <td>Linda Ronstadt</td>\n",
       "      <td>Rock, Pop</td>\n",
       "      <td>Soft Rock, Pop Rock</td>\n",
       "    </tr>\n",
       "    <tr>\n",
       "      <th>178</th>\n",
       "      <td>179</td>\n",
       "      <td>2001</td>\n",
       "      <td>The Definitive Collection</td>\n",
       "      <td>ABBA</td>\n",
       "      <td>Electronic, Pop</td>\n",
       "      <td>Europop, Synth-pop, Disco</td>\n",
       "    </tr>\n",
       "    <tr>\n",
       "      <th>198</th>\n",
       "      <td>199</td>\n",
       "      <td>2001</td>\n",
       "      <td>Is This It</td>\n",
       "      <td>The Strokes</td>\n",
       "      <td>Rock</td>\n",
       "      <td>Indie Rock</td>\n",
       "    </tr>\n",
       "    <tr>\n",
       "      <th>203</th>\n",
       "      <td>204</td>\n",
       "      <td>2006</td>\n",
       "      <td>Modern Times</td>\n",
       "      <td>Bob Dylan</td>\n",
       "      <td>Rock</td>\n",
       "      <td>Blues Rock, Folk Rock</td>\n",
       "    </tr>\n",
       "    <tr>\n",
       "      <th>224</th>\n",
       "      <td>225</td>\n",
       "      <td>2004</td>\n",
       "      <td>American Idiot</td>\n",
       "      <td>Green Day</td>\n",
       "      <td>Rock</td>\n",
       "      <td>Pop Rock, Punk</td>\n",
       "    </tr>\n",
       "  </tbody>\n",
       "</table>\n",
       "</div>"
      ],
      "text/plain": [
       "     Number  Year                            Album          Artist  \\\n",
       "37       38  2001                    The Anthology    Muddy Waters   \n",
       "66       67  2000                            Kid A       Radiohead   \n",
       "106     107  2003   Portrait of a Legend 1951-1964       Sam Cooke   \n",
       "117     118  2005                Late Registration      Kanye West   \n",
       "150     151  2004                          Funeral     Arcade Fire   \n",
       "163     164  2002  The Very Best of Linda Ronstadt  Linda Ronstadt   \n",
       "178     179  2001        The Definitive Collection            ABBA   \n",
       "198     199  2001                       Is This It     The Strokes   \n",
       "203     204  2006                     Modern Times       Bob Dylan   \n",
       "224     225  2004                   American Idiot       Green Day   \n",
       "\n",
       "                      Genre                               Subgenre  \n",
       "37   Folk, World, & Country                                   Folk  \n",
       "66         Electronic, Rock    Alternative Rock, IDM, Experimental  \n",
       "106      Latin, Funk / Soul  Soul, Rhythm & Blues, Gospel, Cha-Cha  \n",
       "117                 Hip Hop                                   None  \n",
       "150                    Rock                             Indie Rock  \n",
       "163               Rock, Pop                    Soft Rock, Pop Rock  \n",
       "178         Electronic, Pop              Europop, Synth-pop, Disco  \n",
       "198                    Rock                             Indie Rock  \n",
       "203                    Rock                  Blues Rock, Folk Rock  \n",
       "224                    Rock                         Pop Rock, Punk  "
      ]
     },
     "execution_count": 157,
     "metadata": {},
     "output_type": "execute_result"
    }
   ],
   "source": [
    "nowadays = df.query('Year > 1999')\n",
    "top_albums(nowadays)"
   ]
  },
  {
   "cell_type": "markdown",
   "metadata": {},
   "source": [
    "The highest ranked album from the 21st century comes in at *37*! We are slacking huh.\n",
    "There's definitely a ton more to see here, so please, add to the notebook and see what other questions you can ask. For now, we'll move on.\n",
    "\n",
    "#### The Duplicate Album\n",
    "The summary earlier told us that there was one album on the list three times: 'Greatest Hits'. Let's take a look at that one."
   ]
  },
  {
   "cell_type": "code",
   "execution_count": 161,
   "metadata": {},
   "outputs": [
    {
     "data": {
      "text/html": [
       "<div>\n",
       "<style scoped>\n",
       "    .dataframe tbody tr th:only-of-type {\n",
       "        vertical-align: middle;\n",
       "    }\n",
       "\n",
       "    .dataframe tbody tr th {\n",
       "        vertical-align: top;\n",
       "    }\n",
       "\n",
       "    .dataframe thead th {\n",
       "        text-align: right;\n",
       "    }\n",
       "</style>\n",
       "<table border=\"1\" class=\"dataframe\">\n",
       "  <thead>\n",
       "    <tr style=\"text-align: right;\">\n",
       "      <th></th>\n",
       "      <th>Number</th>\n",
       "      <th>Year</th>\n",
       "      <th>Album</th>\n",
       "      <th>Artist</th>\n",
       "      <th>Genre</th>\n",
       "      <th>Subgenre</th>\n",
       "    </tr>\n",
       "  </thead>\n",
       "  <tbody>\n",
       "    <tr>\n",
       "      <th>51</th>\n",
       "      <td>52</td>\n",
       "      <td>1975</td>\n",
       "      <td>Greatest Hits</td>\n",
       "      <td>Al Green</td>\n",
       "      <td>Funk / Soul</td>\n",
       "      <td>Soul</td>\n",
       "    </tr>\n",
       "    <tr>\n",
       "      <th>60</th>\n",
       "      <td>61</td>\n",
       "      <td>1970</td>\n",
       "      <td>Greatest Hits</td>\n",
       "      <td>Sly &amp; The Family Stone</td>\n",
       "      <td>Funk / Soul</td>\n",
       "      <td>Rhythm &amp; Blues, Funk</td>\n",
       "    </tr>\n",
       "    <tr>\n",
       "      <th>135</th>\n",
       "      <td>136</td>\n",
       "      <td>1974</td>\n",
       "      <td>Greatest Hits</td>\n",
       "      <td>Elton John</td>\n",
       "      <td>Rock</td>\n",
       "      <td>Classic Rock</td>\n",
       "    </tr>\n",
       "  </tbody>\n",
       "</table>\n",
       "</div>"
      ],
      "text/plain": [
       "     Number  Year          Album                  Artist        Genre  \\\n",
       "51       52  1975  Greatest Hits                Al Green  Funk / Soul   \n",
       "60       61  1970  Greatest Hits  Sly & The Family Stone  Funk / Soul   \n",
       "135     136  1974  Greatest Hits              Elton John         Rock   \n",
       "\n",
       "                 Subgenre  \n",
       "51                   Soul  \n",
       "60   Rhythm & Blues, Funk  \n",
       "135          Classic Rock  "
      ]
     },
     "execution_count": 161,
     "metadata": {},
     "output_type": "execute_result"
    }
   ],
   "source": [
    "df.query('Album == \"Greatest Hits\"')"
   ]
  },
  {
   "cell_type": "markdown",
   "metadata": {},
   "source": [
    "Welp, that was easy. A few artists over the years called their album *Greatest Hits*. We don't need to change this, since now we know that this dataset is unique on Album and Artist.\n",
    "\n",
    "#### Artists\n",
    "For starters, let's double check who the top 10 artists are."
   ]
  },
  {
   "cell_type": "code",
   "execution_count": 193,
   "metadata": {},
   "outputs": [
    {
     "data": {
      "text/plain": [
       "The Rolling Stones    10\n",
       "Bob Dylan             10\n",
       "The Beatles           10\n",
       "Bruce Springsteen      8\n",
       "The Who                7\n",
       "Elton John             5\n",
       "Radiohead              5\n",
       "David Bowie            5\n",
       "Led Zeppelin           5\n",
       "Various Artists        5\n",
       "Name: Artist, dtype: int64"
      ]
     },
     "execution_count": 193,
     "metadata": {},
     "output_type": "execute_result"
    }
   ],
   "source": [
    "df.Artist.value_counts().head(10)"
   ]
  },
  {
   "cell_type": "markdown",
   "metadata": {},
   "source": [
    "All of the top 10 most seen artists had quite a few albums in the top 10.\n",
    "\n",
    "Also --various artists? That's hardly fair. What albums had multiple contributors?"
   ]
  },
  {
   "cell_type": "code",
   "execution_count": 194,
   "metadata": {},
   "outputs": [
    {
     "data": {
      "text/html": [
       "<div>\n",
       "<style scoped>\n",
       "    .dataframe tbody tr th:only-of-type {\n",
       "        vertical-align: middle;\n",
       "    }\n",
       "\n",
       "    .dataframe tbody tr th {\n",
       "        vertical-align: top;\n",
       "    }\n",
       "\n",
       "    .dataframe thead th {\n",
       "        text-align: right;\n",
       "    }\n",
       "</style>\n",
       "<table border=\"1\" class=\"dataframe\">\n",
       "  <thead>\n",
       "    <tr style=\"text-align: right;\">\n",
       "      <th></th>\n",
       "      <th>Number</th>\n",
       "      <th>Year</th>\n",
       "      <th>Album</th>\n",
       "      <th>Artist</th>\n",
       "      <th>Genre</th>\n",
       "      <th>Subgenre</th>\n",
       "    </tr>\n",
       "  </thead>\n",
       "  <tbody>\n",
       "    <tr>\n",
       "      <th>121</th>\n",
       "      <td>122</td>\n",
       "      <td>1972</td>\n",
       "      <td>The Harder They Come</td>\n",
       "      <td>Various Artists</td>\n",
       "      <td>Reggae,�Pop,�Folk, World, &amp; Country,�Stage &amp; S...</td>\n",
       "      <td>Reggae,�Roots Reggae,�Rocksteady,�Contemporary...</td>\n",
       "    </tr>\n",
       "    <tr>\n",
       "      <th>131</th>\n",
       "      <td>132</td>\n",
       "      <td>1977</td>\n",
       "      <td>Saturday Night Fever: The Original Movie Sound...</td>\n",
       "      <td>Various Artists</td>\n",
       "      <td>Electronic,�Stage &amp; Screen</td>\n",
       "      <td>Soundtrack,�Disco</td>\n",
       "    </tr>\n",
       "    <tr>\n",
       "      <th>195</th>\n",
       "      <td>196</td>\n",
       "      <td>1998</td>\n",
       "      <td>Nuggets: Original Artyfacts From the First Psy...</td>\n",
       "      <td>Various Artists</td>\n",
       "      <td>Rock</td>\n",
       "      <td>Garage Rock,�Psychedelic Rock</td>\n",
       "    </tr>\n",
       "    <tr>\n",
       "      <th>387</th>\n",
       "      <td>388</td>\n",
       "      <td>1985</td>\n",
       "      <td>The Indestructible Beat of Soweto</td>\n",
       "      <td>Various Artists</td>\n",
       "      <td>Funk / Soul,�Folk, World, &amp; Country</td>\n",
       "      <td>African</td>\n",
       "    </tr>\n",
       "    <tr>\n",
       "      <th>420</th>\n",
       "      <td>421</td>\n",
       "      <td>1990</td>\n",
       "      <td>The Best of the Girl Groups, Volume 1</td>\n",
       "      <td>Various Artists</td>\n",
       "      <td>Rock,�Pop</td>\n",
       "      <td>Pop Rock, Vocal</td>\n",
       "    </tr>\n",
       "  </tbody>\n",
       "</table>\n",
       "</div>"
      ],
      "text/plain": [
       "     Number  Year                                              Album  \\\n",
       "121     122  1972                               The Harder They Come   \n",
       "131     132  1977  Saturday Night Fever: The Original Movie Sound...   \n",
       "195     196  1998  Nuggets: Original Artyfacts From the First Psy...   \n",
       "387     388  1985                  The Indestructible Beat of Soweto   \n",
       "420     421  1990              The Best of the Girl Groups, Volume 1   \n",
       "\n",
       "              Artist                                              Genre  \\\n",
       "121  Various Artists  Reggae,�Pop,�Folk, World, & Country,�Stage & S...   \n",
       "131  Various Artists                         Electronic,�Stage & Screen   \n",
       "195  Various Artists                                               Rock   \n",
       "387  Various Artists                Funk / Soul,�Folk, World, & Country   \n",
       "420  Various Artists                                          Rock,�Pop   \n",
       "\n",
       "                                              Subgenre  \n",
       "121  Reggae,�Roots Reggae,�Rocksteady,�Contemporary...  \n",
       "131                                  Soundtrack,�Disco  \n",
       "195                      Garage Rock,�Psychedelic Rock  \n",
       "387                                            African  \n",
       "420                                    Pop Rock, Vocal  "
      ]
     },
     "execution_count": 194,
     "metadata": {},
     "output_type": "execute_result"
    }
   ],
   "source": [
    "df.query('Artist == \"Various Artists\"')"
   ]
  },
  {
   "cell_type": "markdown",
   "metadata": {},
   "source": [
    "Given that so many artists appear multiple times, it might be interesting to look at one-hit wonders."
   ]
  },
  {
   "cell_type": "code",
   "execution_count": 300,
   "metadata": {},
   "outputs": [
    {
     "data": {
      "text/plain": [
       "178"
      ]
     },
     "execution_count": 300,
     "metadata": {},
     "output_type": "execute_result"
    }
   ],
   "source": [
    "# get a list of artists who only appear in the dataset once\n",
    "only_once = df.Artist.value_counts()[df.Artist.value_counts() == 1]\n",
    "# filter df for artists who appear in `only_once` list\n",
    "one_hit_wonders = df[df.Artist.isin(only_once.index)]\n",
    "len(one_hit_wonders)"
   ]
  },
  {
   "cell_type": "markdown",
   "metadata": {},
   "source": [
    "178 out of 500 albums are one hit wonders. That's very interesting! It seems like the Top 500 albums are skewed really heavily towards artists who have been on it before.\n",
    "\n",
    "#### Genres\n",
    "\n",
    "Finally, before we circle back and ask our own questions, let's look at the genres."
   ]
  },
  {
   "cell_type": "code",
   "execution_count": 302,
   "metadata": {},
   "outputs": [
    {
     "data": {
      "text/plain": [
       "Rock                                                    249\n",
       "Funk / Soul                                              38\n",
       "Hip Hop                                                  29\n",
       "Electronic, Rock                                         19\n",
       "Rock, Pop                                                18\n",
       "Rock, Blues                                              16\n",
       "Folk, World, & Country                                   13\n",
       "Rock, Folk, World, & Country                              9\n",
       "Blues                                                     8\n",
       "Electronic                                                7\n",
       "Jazz                                                      7\n",
       "Funk / Soul, Pop                                          6\n",
       "Reggae                                                    6\n",
       "Electronic, Pop                                           5\n",
       "Rock, Funk / Soul                                         5\n",
       "Funk / Soul, Blues                                        4\n",
       "Rock, Stage & Screen                                      3\n",
       "Rock, Funk / Soul, Pop                                    3\n",
       "Jazz, Pop                                                 3\n",
       "Hip Hop, Funk / Soul                                      3\n",
       "Electronic, Funk / Soul                                   2\n",
       "Rock, Latin                                               2\n",
       "Electronic, Rock, Pop                                     2\n",
       "Rock, Reggae                                              2\n",
       "Rock, Blues, Pop                                          2\n",
       "Jazz, Rock                                                2\n",
       "Pop                                                       1\n",
       "Electronic,�Stage & Screen                                1\n",
       "Funk / Soul, Stage & Screen                               1\n",
       "Jazz, Funk / Soul                                         1\n",
       "                                                       ... \n",
       "Rock, Latin, Funk / Soul                                  1\n",
       "Rock, Blues, Folk, World, & Country                       1\n",
       "Hip Hop, Rock                                             1\n",
       "Rock, Funk / Soul, Blues                                  1\n",
       "Jazz, Rock, Funk / Soul, Blues                            1\n",
       "Reggae,�Pop,�Folk, World, & Country,�Stage & Screen       1\n",
       "Electronic, Hip Hop, Funk / Soul                          1\n",
       "Pop, Folk, World, & Country                               1\n",
       "Latin, Funk / Soul                                        1\n",
       "Blues, Folk, World, & Country                             1\n",
       "Rock,�Blues                                               1\n",
       "Electronic, Rock, Funk / Soul, Stage & Screen             1\n",
       "Rock, Funk / Soul, Folk, World, & Country                 1\n",
       "Electronic, Rock, Funk / Soul, Blues, Pop                 1\n",
       "Electronic, Funk / Soul, Pop                              1\n",
       "Electronic, Hip Hop, Pop                                  1\n",
       "Funk / Soul,�Folk, World, & Country                       1\n",
       "Funk / Soul, Folk, World, & Country                       1\n",
       "Electronic, Hip Hop, Reggae, Pop                          1\n",
       "Rock, Reggae, Latin                                       1\n",
       "Jazz, Pop, Folk, World, & Country                         1\n",
       "Hip Hop, Rock, Funk / Soul                                1\n",
       "Rock, Pop, Folk, World, & Country                         1\n",
       "Jazz, Rock, Blues, Folk, World, & Country                 1\n",
       "Electronic, Hip Hop, Funk / Soul, Pop                     1\n",
       "Jazz, Rock, Funk / Soul, Pop, Folk, World, & Country      1\n",
       "Rock,�Pop                                                 1\n",
       "Jazz, Rock, Funk / Soul, Folk, World, & Country           1\n",
       "Electronic, Reggae                                        1\n",
       "Classical, Stage & Screen                                 1\n",
       "Name: Genre, Length: 63, dtype: int64"
      ]
     },
     "execution_count": 302,
     "metadata": {},
     "output_type": "execute_result"
    }
   ],
   "source": [
    "df.Genre.value_counts()"
   ]
  },
  {
   "cell_type": "markdown",
   "metadata": {},
   "source": [
    "Hmmm... lots of variation in naming here. Descriptive stats of genres over time like we've done before would be very helpful, so let's try and isolate just the first genre in the lists of genres. We'll have to use [regular expressions](https://www.novixys.com/blog/python-regular-expression-tutorial-part-1/) and the Python [re](https://docs.python.org/3/library/re.html#re.split) module."
   ]
  },
  {
   "cell_type": "code",
   "execution_count": 407,
   "metadata": {},
   "outputs": [
    {
     "data": {
      "text/html": [
       "<div>\n",
       "<style scoped>\n",
       "    .dataframe tbody tr th:only-of-type {\n",
       "        vertical-align: middle;\n",
       "    }\n",
       "\n",
       "    .dataframe tbody tr th {\n",
       "        vertical-align: top;\n",
       "    }\n",
       "\n",
       "    .dataframe thead th {\n",
       "        text-align: right;\n",
       "    }\n",
       "</style>\n",
       "<table border=\"1\" class=\"dataframe\">\n",
       "  <thead>\n",
       "    <tr style=\"text-align: right;\">\n",
       "      <th></th>\n",
       "      <th>Number</th>\n",
       "      <th>Year</th>\n",
       "      <th>Album</th>\n",
       "      <th>Artist</th>\n",
       "      <th>Genre</th>\n",
       "      <th>Subgenre</th>\n",
       "      <th>PrimaryGenre</th>\n",
       "    </tr>\n",
       "  </thead>\n",
       "  <tbody>\n",
       "    <tr>\n",
       "      <th>0</th>\n",
       "      <td>1</td>\n",
       "      <td>1967</td>\n",
       "      <td>Sgt. Pepper's Lonely Hearts Club Band</td>\n",
       "      <td>The Beatles</td>\n",
       "      <td>Rock</td>\n",
       "      <td>Rock &amp; Roll, Psychedelic Rock</td>\n",
       "      <td>Rock</td>\n",
       "    </tr>\n",
       "    <tr>\n",
       "      <th>1</th>\n",
       "      <td>2</td>\n",
       "      <td>1966</td>\n",
       "      <td>Pet Sounds</td>\n",
       "      <td>The Beach Boys</td>\n",
       "      <td>Rock</td>\n",
       "      <td>Pop Rock, Psychedelic Rock</td>\n",
       "      <td>Rock</td>\n",
       "    </tr>\n",
       "    <tr>\n",
       "      <th>2</th>\n",
       "      <td>3</td>\n",
       "      <td>1966</td>\n",
       "      <td>Revolver</td>\n",
       "      <td>The Beatles</td>\n",
       "      <td>Rock</td>\n",
       "      <td>Psychedelic Rock, Pop Rock</td>\n",
       "      <td>Rock</td>\n",
       "    </tr>\n",
       "    <tr>\n",
       "      <th>3</th>\n",
       "      <td>4</td>\n",
       "      <td>1965</td>\n",
       "      <td>Highway 61 Revisited</td>\n",
       "      <td>Bob Dylan</td>\n",
       "      <td>Rock</td>\n",
       "      <td>Folk Rock, Blues Rock</td>\n",
       "      <td>Rock</td>\n",
       "    </tr>\n",
       "    <tr>\n",
       "      <th>4</th>\n",
       "      <td>5</td>\n",
       "      <td>1965</td>\n",
       "      <td>Rubber Soul</td>\n",
       "      <td>The Beatles</td>\n",
       "      <td>Rock, Pop</td>\n",
       "      <td>Pop Rock</td>\n",
       "      <td>Rock</td>\n",
       "    </tr>\n",
       "  </tbody>\n",
       "</table>\n",
       "</div>"
      ],
      "text/plain": [
       "   Number  Year                                  Album          Artist  \\\n",
       "0       1  1967  Sgt. Pepper's Lonely Hearts Club Band     The Beatles   \n",
       "1       2  1966                             Pet Sounds  The Beach Boys   \n",
       "2       3  1966                               Revolver     The Beatles   \n",
       "3       4  1965                   Highway 61 Revisited       Bob Dylan   \n",
       "4       5  1965                            Rubber Soul     The Beatles   \n",
       "\n",
       "       Genre                       Subgenre PrimaryGenre  \n",
       "0       Rock  Rock & Roll, Psychedelic Rock         Rock  \n",
       "1       Rock     Pop Rock, Psychedelic Rock         Rock  \n",
       "2       Rock     Psychedelic Rock, Pop Rock         Rock  \n",
       "3       Rock          Folk Rock, Blues Rock         Rock  \n",
       "4  Rock, Pop                       Pop Rock         Rock  "
      ]
     },
     "execution_count": 407,
     "metadata": {},
     "output_type": "execute_result"
    }
   ],
   "source": [
    "import re\n",
    "def grab_first_in_list(genre):\n",
    "    # split the strings into lists\n",
    "    # split happens at a \",\" a \"/\", or a \" \"\n",
    "    return re.split(r'[,/]', genre)[0]\n",
    "\n",
    "df['PrimaryGenre'] = df['Genre'].apply(grab_first_in_list) # make a new column\n",
    "df.head()"
   ]
  },
  {
   "cell_type": "markdown",
   "metadata": {},
   "source": [
    "Excellent, PrimaryGenre should be much more manageable to use now."
   ]
  },
  {
   "cell_type": "code",
   "execution_count": 408,
   "metadata": {},
   "outputs": [
    {
     "data": {
      "text/plain": [
       "MultiIndex(levels=[['Blues', 'Classical', 'Electronic', 'Folk', 'Funk ', 'Hip Hop', 'Jazz', 'Latin', 'Pop', 'Reggae', 'Rock'], [1955, 1956, 1957, 1958, 1959, 1960, 1961, 1962, 1963, 1964, 1965, 1966, 1967, 1968, 1969, 1970, 1971, 1972, 1973, 1974, 1975, 1976, 1977, 1978, 1979, 1980, 1981, 1982, 1983, 1984, 1985, 1986, 1987, 1988, 1989, 1990, 1991, 1992, 1993, 1994, 1995, 1996, 1997, 1998, 1999, 2000, 2001, 2002, 2003, 2004, 2005, 2006, 2007, 2008, 2010, 2011]],\n",
       "           labels=[[0, 0, 0, 0, 0, 0, 0, 0, 0, 1, 2, 2, 2, 2, 2, 2, 2, 2, 2, 2, 2, 2, 2, 2, 2, 2, 2, 2, 2, 2, 2, 2, 2, 3, 3, 3, 3, 3, 3, 3, 3, 3, 3, 3, 3, 4, 4, 4, 4, 4, 4, 4, 4, 4, 4, 4, 4, 4, 4, 4, 4, 4, 4, 4, 4, 4, 4, 4, 4, 4, 4, 5, 5, 5, 5, 5, 5, 5, 5, 5, 5, 5, 5, 5, 5, 5, 5, 5, 5, 5, 5, 5, 5, 6, 6, 6, 6, 6, 6, 6, 6, 6, 6, 6, 6, 6, 7, 8, 8, 9, 9, 9, 9, 9, 10, 10, 10, 10, 10, 10, 10, 10, 10, 10, 10, 10, 10, 10, 10, 10, 10, 10, 10, 10, 10, 10, 10, 10, 10, 10, 10, 10, 10, 10, 10, 10, 10, 10, 10, 10, 10, 10, 10, 10, 10, 10, 10, 10, 10, 10, 10, 10], [3, 7, 9, 10, 12, 16, 35, 36, 42, 14, 11, 13, 20, 22, 23, 24, 25, 28, 29, 31, 32, 34, 35, 36, 39, 40, 41, 42, 43, 44, 45, 46, 52, 8, 13, 15, 16, 20, 29, 39, 41, 43, 45, 46, 47, 5, 6, 7, 8, 10, 11, 12, 13, 14, 15, 16, 17, 18, 19, 20, 21, 23, 24, 25, 27, 30, 31, 32, 36, 37, 51, 29, 30, 31, 32, 33, 34, 35, 36, 37, 38, 39, 40, 41, 42, 43, 44, 45, 46, 48, 50, 53, 54, 0, 1, 4, 5, 9, 10, 13, 15, 19, 22, 23, 31, 36, 48, 16, 23, 17, 18, 19, 22, 29, 1, 2, 5, 8, 9, 10, 11, 12, 13, 14, 15, 16, 17, 18, 19, 20, 21, 22, 23, 24, 25, 26, 27, 28, 29, 30, 31, 32, 33, 34, 35, 36, 37, 38, 39, 40, 42, 43, 44, 45, 46, 47, 48, 49, 50, 51, 52, 55]],\n",
       "           names=['PrimaryGenre', 'Year'])"
      ]
     },
     "execution_count": 408,
     "metadata": {},
     "output_type": "execute_result"
    }
   ],
   "source": [
    "genres_by_year = df.groupby(['PrimaryGenre', 'Year'])['PrimaryGenre'].count()\n",
    "df.groupby(['PrimaryGenre', 'Year'])['PrimaryGenre'].count().index"
   ]
  },
  {
   "cell_type": "markdown",
   "metadata": {},
   "source": [
    "Now it's possible to examine the incidence of genres over the years."
   ]
  },
  {
   "cell_type": "code",
   "execution_count": 409,
   "metadata": {},
   "outputs": [
    {
     "data": {
      "text/plain": [
       "<matplotlib.axes._subplots.AxesSubplot at 0x1186de9b0>"
      ]
     },
     "execution_count": 409,
     "metadata": {},
     "output_type": "execute_result"
    },
    {
     "data": {
      "image/png": "[encoded data removed]",
      "text/plain": [
       "<Figure size 432x288 with 1 Axes>"
      ]
     },
     "metadata": {
      "needs_background": "light"
     },
     "output_type": "display_data"
    }
   ],
   "source": [
    "genres_by_year['Electronic'].plot()"
   ]
  },
  {
   "cell_type": "code",
   "execution_count": 410,
   "metadata": {},
   "outputs": [
    {
     "data": {
      "text/plain": [
       "<matplotlib.axes._subplots.AxesSubplot at 0x11ad09be0>"
      ]
     },
     "execution_count": 410,
     "metadata": {},
     "output_type": "execute_result"
    },
    {
     "data": {
      "image/png": "[encoded data removed]",
      "text/plain": [
       "<Figure size 432x288 with 1 Axes>"
      ]
     },
     "metadata": {
      "needs_background": "light"
     },
     "output_type": "display_data"
    }
   ],
   "source": [
    "genres_by_year['Rock'].plot()"
   ]
  },
  {
   "cell_type": "code",
   "execution_count": 411,
   "metadata": {},
   "outputs": [
    {
     "data": {
      "text/plain": [
       "<matplotlib.axes._subplots.AxesSubplot at 0x11971e898>"
      ]
     },
     "execution_count": 411,
     "metadata": {},
     "output_type": "execute_result"
    },
    {
     "data": {
      "image/png": "[encoded data removed]",
      "text/plain": [
       "<Figure size 432x288 with 1 Axes>"
      ]
     },
     "metadata": {
      "needs_background": "light"
     },
     "output_type": "display_data"
    }
   ],
   "source": [
    "genres_by_year['Hip Hop'].plot()"
   ]
  }
 ],
 "metadata": {
  "kernelspec": {
   "display_name": "Python 3",
   "language": "python",
   "name": "python3"
  },
  "language_info": {
   "codemirror_mode": {
    "name": "ipython",
    "version": 3
   },
   "file_extension": ".py",
   "mimetype": "text/x-python",
   "name": "python",
   "nbconvert_exporter": "python",
   "pygments_lexer": "ipython3",
   "version": "3.7.0"
  }
 },
 "nbformat": 4,
 "nbformat_minor": 2
}
