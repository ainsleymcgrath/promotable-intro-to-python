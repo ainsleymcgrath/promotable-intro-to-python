{
 "cells": [
  {
   "cell_type": "markdown",
   "metadata": {},
   "source": [
    "# Exploring Rolling Stone Top 500 Albums 2012\n",
    "\n",
    "The dataset used here came from [Kaggle](https://www.kaggle.com/datasets) via [data.world](https://data.world/notgibs/rolling-stones-top-500-albums). The analysis performed in this notebook heavily focuses on the Pandas functionality found in [The Pandas Cheatsheet](https://github.com/pandas-dev/pandas/blob/master/doc/cheatsheet/Pandas_Cheat_Sheet.pdf). \n",
    "\n",
    "If something is used that isn't in the cheatsheet, follow links! They lead to official docs. They're included in lieu of explicit explanation of what different cells are doing, because that's what docs are for! Get the most out of this by digging in, messing around, and breaking stuff."
   ]
  },
  {
   "cell_type": "code",
   "execution_count": 21,
   "metadata": {},
   "outputs": [],
   "source": [
    "import pandas as pd\n",
    "\n",
    "df = pd.read_csv('albumlist.csv')"
   ]
  },
  {
   "cell_type": "markdown",
   "metadata": {},
   "source": [
    "With our data imported, let's take a cursory [look](https://pandas.pydata.org/pandas-docs/stable/generated/pandas.DataFrame.dtypes.html) at what we're dealing with."
   ]
  },
  {
   "cell_type": "markdown",
   "metadata": {},
   "source": [
    "## High Level Analysis"
   ]
  },
  {
   "cell_type": "code",
   "execution_count": 35,
   "metadata": {
    "scrolled": true
   },
   "outputs": [
    {
     "data": {
      "text/plain": [
       "Number       int64\n",
       "Year         int64\n",
       "Album       object\n",
       "Artist      object\n",
       "Genre       object\n",
       "Subgenre    object\n",
       "dtype: object"
      ]
     },
     "execution_count": 35,
     "metadata": {},
     "output_type": "execute_result"
    }
   ],
   "source": [
    "df.dtypes"
   ]
  },
  {
   "cell_type": "code",
   "execution_count": 36,
   "metadata": {},
   "outputs": [
    {
     "data": {
      "text/html": [
       "<div>\n",
       "<style scoped>\n",
       "    .dataframe tbody tr th:only-of-type {\n",
       "        vertical-align: middle;\n",
       "    }\n",
       "\n",
       "    .dataframe tbody tr th {\n",
       "        vertical-align: top;\n",
       "    }\n",
       "\n",
       "    .dataframe thead th {\n",
       "        text-align: right;\n",
       "    }\n",
       "</style>\n",
       "<table border=\"1\" class=\"dataframe\">\n",
       "  <thead>\n",
       "    <tr style=\"text-align: right;\">\n",
       "      <th></th>\n",
       "      <th>Number</th>\n",
       "      <th>Year</th>\n",
       "      <th>Album</th>\n",
       "      <th>Artist</th>\n",
       "      <th>Genre</th>\n",
       "      <th>Subgenre</th>\n",
       "    </tr>\n",
       "  </thead>\n",
       "  <tbody>\n",
       "    <tr>\n",
       "      <th>0</th>\n",
       "      <td>1</td>\n",
       "      <td>1967</td>\n",
       "      <td>Sgt. Pepper's Lonely Hearts Club Band</td>\n",
       "      <td>The Beatles</td>\n",
       "      <td>Rock</td>\n",
       "      <td>Rock &amp; Roll, Psychedelic Rock</td>\n",
       "    </tr>\n",
       "    <tr>\n",
       "      <th>1</th>\n",
       "      <td>2</td>\n",
       "      <td>1966</td>\n",
       "      <td>Pet Sounds</td>\n",
       "      <td>The Beach Boys</td>\n",
       "      <td>Rock</td>\n",
       "      <td>Pop Rock, Psychedelic Rock</td>\n",
       "    </tr>\n",
       "    <tr>\n",
       "      <th>2</th>\n",
       "      <td>3</td>\n",
       "      <td>1966</td>\n",
       "      <td>Revolver</td>\n",
       "      <td>The Beatles</td>\n",
       "      <td>Rock</td>\n",
       "      <td>Psychedelic Rock, Pop Rock</td>\n",
       "    </tr>\n",
       "    <tr>\n",
       "      <th>3</th>\n",
       "      <td>4</td>\n",
       "      <td>1965</td>\n",
       "      <td>Highway 61 Revisited</td>\n",
       "      <td>Bob Dylan</td>\n",
       "      <td>Rock</td>\n",
       "      <td>Folk Rock, Blues Rock</td>\n",
       "    </tr>\n",
       "    <tr>\n",
       "      <th>4</th>\n",
       "      <td>5</td>\n",
       "      <td>1965</td>\n",
       "      <td>Rubber Soul</td>\n",
       "      <td>The Beatles</td>\n",
       "      <td>Rock, Pop</td>\n",
       "      <td>Pop Rock</td>\n",
       "    </tr>\n",
       "  </tbody>\n",
       "</table>\n",
       "</div>"
      ],
      "text/plain": [
       "   Number  Year                                  Album          Artist  \\\n",
       "0       1  1967  Sgt. Pepper's Lonely Hearts Club Band     The Beatles   \n",
       "1       2  1966                             Pet Sounds  The Beach Boys   \n",
       "2       3  1966                               Revolver     The Beatles   \n",
       "3       4  1965                   Highway 61 Revisited       Bob Dylan   \n",
       "4       5  1965                            Rubber Soul     The Beatles   \n",
       "\n",
       "       Genre                       Subgenre  \n",
       "0       Rock  Rock & Roll, Psychedelic Rock  \n",
       "1       Rock     Pop Rock, Psychedelic Rock  \n",
       "2       Rock     Psychedelic Rock, Pop Rock  \n",
       "3       Rock          Folk Rock, Blues Rock  \n",
       "4  Rock, Pop                       Pop Rock  "
      ]
     },
     "execution_count": 36,
     "metadata": {},
     "output_type": "execute_result"
    }
   ],
   "source": [
    "df.head()"
   ]
  },
  {
   "cell_type": "markdown",
   "metadata": {},
   "source": [
    "Six columns. We've got:\n",
    "- *Number*, a simple integer index.\n",
    "- *Year*, the year the album was released.\n",
    "- *Album*, the title. (An object, which is Pandas for String)\n",
    "- *Genre* \n",
    "- *Subgenre*\n",
    "\n",
    "With a quick [summary](https://pandas.pydata.org/pandas-docs/stable/generated/pandas.DataFrame.describe.html#pandas.DataFrame.describe) of the dataset, we can get a feel for what might be some interesting questions to ask about our data and scheme out our analysis for the rest of the notebook."
   ]
  },
  {
   "cell_type": "code",
   "execution_count": 27,
   "metadata": {},
   "outputs": [
    {
     "data": {
      "text/html": [
       "<div>\n",
       "<style scoped>\n",
       "    .dataframe tbody tr th:only-of-type {\n",
       "        vertical-align: middle;\n",
       "    }\n",
       "\n",
       "    .dataframe tbody tr th {\n",
       "        vertical-align: top;\n",
       "    }\n",
       "\n",
       "    .dataframe thead th {\n",
       "        text-align: right;\n",
       "    }\n",
       "</style>\n",
       "<table border=\"1\" class=\"dataframe\">\n",
       "  <thead>\n",
       "    <tr style=\"text-align: right;\">\n",
       "      <th></th>\n",
       "      <th>Number</th>\n",
       "      <th>Year</th>\n",
       "      <th>Album</th>\n",
       "      <th>Artist</th>\n",
       "      <th>Genre</th>\n",
       "      <th>Subgenre</th>\n",
       "    </tr>\n",
       "  </thead>\n",
       "  <tbody>\n",
       "    <tr>\n",
       "      <th>count</th>\n",
       "      <td>500.000000</td>\n",
       "      <td>500.000000</td>\n",
       "      <td>500</td>\n",
       "      <td>500</td>\n",
       "      <td>500</td>\n",
       "      <td>500</td>\n",
       "    </tr>\n",
       "    <tr>\n",
       "      <th>unique</th>\n",
       "      <td>NaN</td>\n",
       "      <td>NaN</td>\n",
       "      <td>497</td>\n",
       "      <td>289</td>\n",
       "      <td>63</td>\n",
       "      <td>290</td>\n",
       "    </tr>\n",
       "    <tr>\n",
       "      <th>top</th>\n",
       "      <td>NaN</td>\n",
       "      <td>NaN</td>\n",
       "      <td>Greatest Hits</td>\n",
       "      <td>The Beatles</td>\n",
       "      <td>Rock</td>\n",
       "      <td>None</td>\n",
       "    </tr>\n",
       "    <tr>\n",
       "      <th>freq</th>\n",
       "      <td>NaN</td>\n",
       "      <td>NaN</td>\n",
       "      <td>3</td>\n",
       "      <td>10</td>\n",
       "      <td>249</td>\n",
       "      <td>29</td>\n",
       "    </tr>\n",
       "    <tr>\n",
       "      <th>mean</th>\n",
       "      <td>250.500000</td>\n",
       "      <td>1979.270000</td>\n",
       "      <td>NaN</td>\n",
       "      <td>NaN</td>\n",
       "      <td>NaN</td>\n",
       "      <td>NaN</td>\n",
       "    </tr>\n",
       "    <tr>\n",
       "      <th>std</th>\n",
       "      <td>144.481833</td>\n",
       "      <td>12.093701</td>\n",
       "      <td>NaN</td>\n",
       "      <td>NaN</td>\n",
       "      <td>NaN</td>\n",
       "      <td>NaN</td>\n",
       "    </tr>\n",
       "    <tr>\n",
       "      <th>min</th>\n",
       "      <td>1.000000</td>\n",
       "      <td>1955.000000</td>\n",
       "      <td>NaN</td>\n",
       "      <td>NaN</td>\n",
       "      <td>NaN</td>\n",
       "      <td>NaN</td>\n",
       "    </tr>\n",
       "    <tr>\n",
       "      <th>25%</th>\n",
       "      <td>125.750000</td>\n",
       "      <td>1970.000000</td>\n",
       "      <td>NaN</td>\n",
       "      <td>NaN</td>\n",
       "      <td>NaN</td>\n",
       "      <td>NaN</td>\n",
       "    </tr>\n",
       "    <tr>\n",
       "      <th>50%</th>\n",
       "      <td>250.500000</td>\n",
       "      <td>1976.000000</td>\n",
       "      <td>NaN</td>\n",
       "      <td>NaN</td>\n",
       "      <td>NaN</td>\n",
       "      <td>NaN</td>\n",
       "    </tr>\n",
       "    <tr>\n",
       "      <th>75%</th>\n",
       "      <td>375.250000</td>\n",
       "      <td>1988.000000</td>\n",
       "      <td>NaN</td>\n",
       "      <td>NaN</td>\n",
       "      <td>NaN</td>\n",
       "      <td>NaN</td>\n",
       "    </tr>\n",
       "    <tr>\n",
       "      <th>max</th>\n",
       "      <td>500.000000</td>\n",
       "      <td>2011.000000</td>\n",
       "      <td>NaN</td>\n",
       "      <td>NaN</td>\n",
       "      <td>NaN</td>\n",
       "      <td>NaN</td>\n",
       "    </tr>\n",
       "  </tbody>\n",
       "</table>\n",
       "</div>"
      ],
      "text/plain": [
       "            Number         Year          Album       Artist Genre Subgenre\n",
       "count   500.000000   500.000000            500          500   500      500\n",
       "unique         NaN          NaN            497          289    63      290\n",
       "top            NaN          NaN  Greatest Hits  The Beatles  Rock     None\n",
       "freq           NaN          NaN              3           10   249       29\n",
       "mean    250.500000  1979.270000            NaN          NaN   NaN      NaN\n",
       "std     144.481833    12.093701            NaN          NaN   NaN      NaN\n",
       "min       1.000000  1955.000000            NaN          NaN   NaN      NaN\n",
       "25%     125.750000  1970.000000            NaN          NaN   NaN      NaN\n",
       "50%     250.500000  1976.000000            NaN          NaN   NaN      NaN\n",
       "75%     375.250000  1988.000000            NaN          NaN   NaN      NaN\n",
       "max     500.000000  2011.000000            NaN          NaN   NaN      NaN"
      ]
     },
     "execution_count": 27,
     "metadata": {},
     "output_type": "execute_result"
    }
   ],
   "source": [
    "df.describe(include='all')"
   ]
  },
  {
   "cell_type": "markdown",
   "metadata": {},
   "source": [
    "This small summary says a lot!\n",
    "\n",
    "*Number* isn't gonna be useful since it's just an index. Let's plan on disposing of that.\n",
    "\n",
    "The min *Year* of this dataset is 1955 and the max is 2011, so we know that this info covers 56 years of albums. The [interquartile range](https://en.wikipedia.org/wiki/Interquartile_range) (the 3 rows below *min*) tell us even more. The first (Q1) is 1970, so 1/4 of all these albums came out before then, or within the first 15 years of this time period. The next 25% (Q2) of the data was all from the following 6 years! That tells us that a ton of these top 500 albums came from the 70s, so maybe that'd be a good subset of the data to analyze later. Q3 covers 8 years of data, and then Q4 is the last 23. This shows us another trend: There was a huge dropoff for Rolling Stone adding new albums to their best-of-all-time after 1988. Something else to consider later.\n",
    "\n",
    "Next, we look *Album* and notice that there are only 497 unique albums in this list of 500 albums. That doesn't seem right... Apparently, the album title that's getting repeated is *Greatest Hits* (*freq* tells us that it was repeated 3 times). We'll come back to that later as well.\n",
    "\n",
    "*Artist*: We see the Beatles made it on 10 times. Quite a few artists made it on more than once as well, it appears since there are only 289 unique artists out of 500 rows of data.\n",
    "\n",
    "Finally, *Genre* and *Subgenre*. Rock dominates the genres in the list with more than half the \"best\" albums being in that category. *Subgenre* will be interesting to look at, since even though the #1 subgenre is `None`, that only happens 29 times, so 461 of these have subgenres listed.\n",
    "\n",
    "Armed with some paths to head down, let's explore."
   ]
  },
  {
   "cell_type": "markdown",
   "metadata": {},
   "source": [
    "## Diving In\n",
    " "
   ]
  },
  {
   "cell_type": "code",
   "execution_count": null,
   "metadata": {},
   "outputs": [],
   "source": []
  }
 ],
 "metadata": {
  "kernelspec": {
   "display_name": "Python 3",
   "language": "python",
   "name": "python3"
  },
  "language_info": {
   "codemirror_mode": {
    "name": "ipython",
    "version": 3
   },
   "file_extension": ".py",
   "mimetype": "text/x-python",
   "name": "python",
   "nbconvert_exporter": "python",
   "pygments_lexer": "ipython3",
   "version": "3.6.0"
  }
 },
 "nbformat": 4,
 "nbformat_minor": 2
}
